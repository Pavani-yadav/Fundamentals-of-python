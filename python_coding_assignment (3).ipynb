{
 "cells": [
  {
   "cell_type": "markdown",
   "id": "de095a5e",
   "metadata": {},
   "source": [
    "# Python Programming Fundamentals Assignment\n",
    "## Certification Project\n",
    "This notebook contains solutions to 15 Python programming exercises divided into three sections.\n"
   ]
  },
  {
   "cell_type": "markdown",
   "id": "d213da48",
   "metadata": {},
   "source": [
    "## Section 1: Python Operators and Control Structures"
   ]
  },
  {
   "cell_type": "markdown",
   "id": "45414340",
   "metadata": {},
   "source": [
    "### Question 1: Sum of Numbers in a List"
   ]
  },
  {
   "cell_type": "code",
   "execution_count": null,
   "id": "53c9d5e4",
   "metadata": {},
   "outputs": [],
   "source": [
    "numbers = [1, 2, 3, 4, 5]\n",
    "total = sum(numbers)\n",
    "print(total)  # Output: 15"
   ]
  },
  {
   "cell_type": "markdown",
   "id": "4ffb98ff",
   "metadata": {},
   "source": [
    "### Question 2: Output of Exponentiation"
   ]
  },
  {
   "cell_type": "code",
   "execution_count": null,
   "id": "9a9b7a34",
   "metadata": {},
   "outputs": [],
   "source": [
    "x = 5\n",
    "y = 2\n",
    "print(x ** y)  # Output: 25"
   ]
  },
  {
   "cell_type": "markdown",
   "id": "1f044916",
   "metadata": {},
   "source": [
    "### Question 3: Palindrome Check"
   ]
  },
  {
   "cell_type": "code",
   "execution_count": null,
   "id": "89932074",
   "metadata": {},
   "outputs": [],
   "source": [
    "num = 12321\n",
    "print(str(num) == str(num)[::-1])  # Output: True"
   ]
  },
  {
   "cell_type": "markdown",
   "id": "87a0e575",
   "metadata": {},
   "source": [
    "### Question 4: List Indexing Output"
   ]
  },
  {
   "cell_type": "code",
   "execution_count": null,
   "id": "09e6e1a0",
   "metadata": {},
   "outputs": [],
   "source": [
    "fruits = ['apple', 'banana', 'cherry']\n",
    "print(fruits[-1])  # Output: cherry"
   ]
  },
  {
   "cell_type": "markdown",
   "id": "9434496f",
   "metadata": {},
   "source": [
    "### Question 5: Average of Numbers in a List"
   ]
  },
  {
   "cell_type": "code",
   "execution_count": null,
   "id": "61f6c4e4",
   "metadata": {},
   "outputs": [],
   "source": [
    "numbers = [1, 2, 3, 4, 5]\n",
    "average = sum(numbers) / len(numbers)\n",
    "print(average)  # Output: 3.0"
   ]
  },
  {
   "cell_type": "markdown",
   "id": "4da43ff9",
   "metadata": {},
   "source": [
    "## Section 2: Lists and Dictionaries"
   ]
  },
  {
   "cell_type": "markdown",
   "id": "badea66b",
   "metadata": {},
   "source": [
    "### Question 6: Dictionary with Student Grades"
   ]
  },
  {
   "cell_type": "code",
   "execution_count": null,
   "id": "98d9df43",
   "metadata": {},
   "outputs": [],
   "source": [
    "students = ['John', 'Alice', 'Bob']\n",
    "grades = [90, 85, 95]\n",
    "student_dict = dict(zip(students, grades))\n",
    "print(student_dict)"
   ]
  },
  {
   "cell_type": "markdown",
   "id": "ffc0e3ef",
   "metadata": {},
   "source": [
    "### Question 7: Output of List Slicing"
   ]
  },
  {
   "cell_type": "code",
   "execution_count": null,
   "id": "256b0e9f",
   "metadata": {},
   "outputs": [],
   "source": [
    "numbers = [1, 2, 3, 4, 5]\n",
    "print(numbers[1:3])  # Output: [2, 3]"
   ]
  },
  {
   "cell_type": "markdown",
   "id": "008aad5f",
   "metadata": {},
   "source": [
    "### Question 8: Sorting a List"
   ]
  },
  {
   "cell_type": "code",
   "execution_count": null,
   "id": "36b8d773",
   "metadata": {},
   "outputs": [],
   "source": [
    "numbers = [4, 2, 9, 6, 5]\n",
    "print(sorted(numbers))  # Output: [2, 4, 5, 6, 9]"
   ]
  },
  {
   "cell_type": "markdown",
   "id": "12cf0075",
   "metadata": {},
   "source": [
    "### Question 9: Output of Dictionary .get() Method"
   ]
  },
  {
   "cell_type": "code",
   "execution_count": null,
   "id": "b032364e",
   "metadata": {},
   "outputs": [],
   "source": [
    "fruits = {'apple': 5, 'banana': 10, 'cherry': 15}\n",
    "print(fruits.get('banana'))  # Output: 10"
   ]
  },
  {
   "cell_type": "markdown",
   "id": "645648f4",
   "metadata": {},
   "source": [
    "### Question 10: List Comprehension for Squares"
   ]
  },
  {
   "cell_type": "code",
   "execution_count": null,
   "id": "5a23a8f1",
   "metadata": {},
   "outputs": [],
   "source": [
    "squares = [x ** 2 for x in range(1, 11)]\n",
    "print(squares)"
   ]
  },
  {
   "cell_type": "markdown",
   "id": "4ab3d559",
   "metadata": {},
   "source": [
    "## Section 3: Advanced Topics"
   ]
  },
  {
   "cell_type": "markdown",
   "id": "9e5113a5",
   "metadata": {},
   "source": [
    "### Question 11: Factorial Using Recursion"
   ]
  },
  {
   "cell_type": "code",
   "execution_count": null,
   "id": "9d1c4669",
   "metadata": {},
   "outputs": [],
   "source": [
    "def factorial(n):\n",
    "    return 1 if n == 0 else n * factorial(n - 1)\n",
    "\n",
    "print(factorial(5))  # Output: 120"
   ]
  },
  {
   "cell_type": "markdown",
   "id": "75379d2f",
   "metadata": {},
   "source": [
    "### Question 12: Output of reversed() Function"
   ]
  },
  {
   "cell_type": "code",
   "execution_count": null,
   "id": "4855b208",
   "metadata": {},
   "outputs": [],
   "source": [
    "numbers = [1, 2, 3, 4, 5]\n",
    "print(list(reversed(numbers)))  # Output: [5, 4, 3, 2, 1]"
   ]
  },
  {
   "cell_type": "markdown",
   "id": "f11d8c6a",
   "metadata": {},
   "source": [
    "### Question 13: Fibonacci Sequence Generator"
   ]
  },
  {
   "cell_type": "code",
   "execution_count": null,
   "id": "f406b85c",
   "metadata": {},
   "outputs": [],
   "source": [
    "def fibonacci(n):\n",
    "    a, b = 0, 1\n",
    "    for _ in range(n):\n",
    "        yield a\n",
    "        a, b = b, a + b\n",
    "\n",
    "print(list(fibonacci(10)))"
   ]
  },
  {
   "cell_type": "markdown",
   "id": "52c5bcec",
   "metadata": {},
   "source": [
    "### Question 14: Output of math.pi"
   ]
  },
  {
   "cell_type": "code",
   "execution_count": null,
   "id": "17515f89",
   "metadata": {},
   "outputs": [],
   "source": [
    "import math\n",
    "print(math.pi)  # Output: 3.141592653589793"
   ]
  },
  {
   "cell_type": "markdown",
   "id": "fcb1978f",
   "metadata": {},
   "source": [
    "### Question 15: Inverted Star Pyramid"
   ]
  },
  {
   "cell_type": "code",
   "execution_count": null,
   "id": "c22b5958",
   "metadata": {},
   "outputs": [],
   "source": [
    "for i in range(5, 0, -1):\n",
    "    print(' ' * (5 - i) + '*' * (2 * i - 1))"
   ]
  }
 ],
 "metadata": {},
 "nbformat": 4,
 "nbformat_minor": 5
}