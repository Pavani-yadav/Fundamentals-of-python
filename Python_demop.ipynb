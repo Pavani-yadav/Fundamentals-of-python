{
 "cells": [
  {
   "cell_type": "markdown",
   "id": "de095a5e",
   "metadata": {},
   "source": [
    "# Python Programming Fundamentals Assignment\n",
    "## Certification Project\n",
    "This notebook contains solutions to 15 Python programming exercises divided into three sections.\n"
   ]
  },
  {
   "cell_type": "markdown",
   "id": "d213da48",
   "metadata": {},
   "source": [
    "## Section 1: Python Operators and Control Structures"
   ]
  },
  {
   "cell_type": "markdown",
   "id": "45414340",
   "metadata": {},
   "source": [
    "### Question 1: Sum of Numbers in a List"
   ]
  },
  {
   "cell_type": "code",
   "execution_count": 105,
   "id": "53c9d5e4",
   "metadata": {},
   "outputs": [
    {
     "name": "stdout",
     "output_type": "stream",
     "text": [
      "15\n"
     ]
    }
   ],
   "source": [
    "numbers = [1, 2, 3, 4, 5]\n",
    "total = sum(numbers)\n",
    "print(total)  # Output: 15"
   ]
  },
  {
   "cell_type": "markdown",
   "id": "153d5ec2",
   "metadata": {},
   "source": [
    "The code creates a list of numbers: one, two, three, four, and five. It then calculates the total by adding these numbers together.\n",
    "\n",
    "First, it starts with one, adds two (which makes three), adds three (making six), adds four (making ten), and finally adds five, resulting in fifteen.\n",
    "\n",
    "The program then prints this total, which is fifteen"
   ]
  },
  {
   "cell_type": "markdown",
   "id": "4ffb98ff",
   "metadata": {},
   "source": [
    "### Question 2: Output of Exponentiation"
   ]
  },
  {
   "cell_type": "code",
   "execution_count": 106,
   "id": "9a9b7a34",
   "metadata": {},
   "outputs": [
    {
     "name": "stdout",
     "output_type": "stream",
     "text": [
      "25\n"
     ]
    }
   ],
   "source": [
    "x = 5\n",
    "y = 2\n",
    "print(x ** y)  # Output: 25"
   ]
  },
  {
   "cell_type": "markdown",
   "id": "19478600",
   "metadata": {},
   "source": [
    "The variable x is assigned the value five.\n",
    "The variable y is assigned the value two.\n",
    "The expression x ** y means five multiplied by itself two times (which is the definition of exponentiation).\n",
    "In other words:\n",
    "\n",
    "5\n",
    "2\n",
    "=\n",
    "5\n",
    "×\n",
    "5\n",
    "=\n",
    "25\n",
    "5 \n",
    "2\n",
    " =5×5=25\n",
    "So, the output is 25"
   ]
  },
  {
   "cell_type": "markdown",
   "id": "1f044916",
   "metadata": {},
   "source": [
    "### Question 3: Palindrome Check"
   ]
  },
  {
   "cell_type": "code",
   "execution_count": 107,
   "id": "89932074",
   "metadata": {},
   "outputs": [
    {
     "name": "stdout",
     "output_type": "stream",
     "text": [
      "True\n"
     ]
    }
   ],
   "source": [
    "num = 12321\n",
    "print(str(num) == str(num)[::-1])  # Output: True"
   ]
  },
  {
   "cell_type": "markdown",
   "id": "41b99313",
   "metadata": {},
   "source": [
    "The given code checks whether the number **12321** is a **palindrome** — a number that reads the same forward and backward.\n",
    "\n",
    "### Step-by-Step Explanation\n",
    "1. **`num = 12321`**  \n",
    "   - The variable `num` is assigned the value **12321**.\n",
    "\n",
    "2. **`str(num)`**  \n",
    "   - The `str()` function converts the number into a string, turning `12321` into `\"12321\"`.\n",
    "\n",
    "3. **`str(num)[::-1]`**  \n",
    "   - The `[::-1]` slicing technique reverses the string.  \n",
    "   - In this case, `\"12321\"` reversed is still `\"12321\"`.\n",
    "\n",
    "4. **`str(num) == str(num)[::-1]`**  \n",
    "   - This condition checks if the original string is the same as the reversed string.  \n",
    "   - Since both are `\"12321\"`, the condition is **True**.\n",
    "\n",
    "5. **`print()`**  \n",
    "   - The result (`True`) is printed.\n",
    "\n",
    "### Final Outcome\n",
    "The code confirms that **12321** is a **palindrome** and prints **`True`**."
   ]
  },
  {
   "cell_type": "markdown",
   "id": "87a0e575",
   "metadata": {},
   "source": [
    "### Question 4: List Indexing Output"
   ]
  },
  {
   "cell_type": "code",
   "execution_count": 108,
   "id": "09e6e1a0",
   "metadata": {},
   "outputs": [
    {
     "name": "stdout",
     "output_type": "stream",
     "text": [
      "cherry\n"
     ]
    }
   ],
   "source": [
    "fruits = ['apple', 'banana', 'cherry']\n",
    "print(fruits[-1])  # Output: cherry"
   ]
  },
  {
   "cell_type": "markdown",
   "id": "04c33712",
   "metadata": {},
   "source": [
    "The code prints the last item in the fruits list. Using fruits[-1] accesses the last element, which is 'cherry'. "
   ]
  },
  {
   "cell_type": "markdown",
   "id": "9434496f",
   "metadata": {},
   "source": [
    "### Question 5: Average of Numbers in a List"
   ]
  },
  {
   "cell_type": "code",
   "execution_count": 109,
   "id": "61f6c4e4",
   "metadata": {},
   "outputs": [
    {
     "name": "stdout",
     "output_type": "stream",
     "text": [
      "3.0\n"
     ]
    }
   ],
   "source": [
    "numbers = [1, 2, 3, 4, 5]\n",
    "average = sum(numbers) / len(numbers)\n",
    "print(average)  # Output: 3.0"
   ]
  },
  {
   "cell_type": "markdown",
   "id": "bee57884",
   "metadata": {},
   "source": [
    "The code finds the average of the numbers in the list.\n",
    "\n",
    "It adds the numbers: 1 + 2 + 3 + 4 + 5 = 15\n",
    "It counts how many numbers are in the list: 5\n",
    "It divides the total by the count: 15 ÷ 5 = 3.0\n",
    "So, the output is 3.0."
   ]
  },
  {
   "cell_type": "markdown",
   "id": "4da43ff9",
   "metadata": {},
   "source": [
    "## Section 2: Lists and Dictionaries"
   ]
  },
  {
   "cell_type": "markdown",
   "id": "badea66b",
   "metadata": {},
   "source": [
    "### Question 6: Dictionary with Student Grades"
   ]
  },
  {
   "cell_type": "code",
   "execution_count": 110,
   "id": "98d9df43",
   "metadata": {},
   "outputs": [
    {
     "name": "stdout",
     "output_type": "stream",
     "text": [
      "{'John': 90, 'Alice': 85, 'Bob': 95}\n"
     ]
    }
   ],
   "source": [
    "students = ['John', 'Alice', 'Bob']\n",
    "grades = [90, 85, 95]\n",
    "student_dict = dict(zip(students, grades))\n",
    "print(student_dict)"
   ]
  },
  {
   "cell_type": "markdown",
   "id": "05b54720",
   "metadata": {},
   "source": [
    "The code creates a dictionary that links each student with their grade.\n",
    "\n",
    "The list students contains three names: John, Alice, and Bob.\n",
    "The list grades contains their scores: 90, 85, and 95.\n",
    "The zip() function pairs each student with their corresponding grade.\n",
    "The dict() function turns those pairs into a dictionary.\n",
    "When printed, the dictionary shows:\n",
    "John has 90, Alice has 85, and Bob has 95"
   ]
  },
  {
   "cell_type": "markdown",
   "id": "ffc0e3ef",
   "metadata": {},
   "source": [
    "### Question 7: Output of List Slicing"
   ]
  },
  {
   "cell_type": "code",
   "execution_count": 111,
   "id": "256b0e9f",
   "metadata": {},
   "outputs": [
    {
     "name": "stdout",
     "output_type": "stream",
     "text": [
      "[2, 3]\n"
     ]
    }
   ],
   "source": [
    "numbers = [1, 2, 3, 4, 5]\n",
    "print(numbers[1:3])  # Output: [2, 3]"
   ]
  },
  {
   "cell_type": "markdown",
   "id": "8c39b8ff",
   "metadata": {},
   "source": [
    "The code takes a part of the list.\n",
    "\n",
    "It starts at the second item (which is 2) and stops before the fourth item (which is 4).\n",
    "\n",
    "So, it includes 2 and 3, resulting in [2, 3]."
   ]
  },
  {
   "cell_type": "markdown",
   "id": "008aad5f",
   "metadata": {},
   "source": [
    "### Question 8: Sorting a List"
   ]
  },
  {
   "cell_type": "code",
   "execution_count": 112,
   "id": "36b8d773",
   "metadata": {},
   "outputs": [
    {
     "name": "stdout",
     "output_type": "stream",
     "text": [
      "[2, 4, 5, 6, 9]\n"
     ]
    }
   ],
   "source": [
    "numbers = [4, 2, 9, 6, 5]\n",
    "print(sorted(numbers))  # Output: [2, 4, 5, 6, 9]"
   ]
  },
  {
   "cell_type": "markdown",
   "id": "1406530c",
   "metadata": {},
   "source": [
    "The code sorts the list of numbers in ascending order.\n",
    "\n",
    "The original list is [4, 2, 9, 6, 5].\n",
    "The sorted() function arranges the numbers from smallest to largest.\n",
    "The sorted result is [2, 4, 5, 6, 9].\n",
    "The original list remains unchanged since sorted() returns a new sorted list.\n",
    "\n",
    "\n",
    "\n",
    "\n",
    "\n",
    "\n",
    "\n"
   ]
  },
  {
   "cell_type": "markdown",
   "id": "12cf0075",
   "metadata": {},
   "source": [
    "### Question 9: Output of Dictionary .get() Method"
   ]
  },
  {
   "cell_type": "code",
   "execution_count": 113,
   "id": "b032364e",
   "metadata": {},
   "outputs": [
    {
     "name": "stdout",
     "output_type": "stream",
     "text": [
      "10\n"
     ]
    }
   ],
   "source": [
    "fruits = {'apple': 5, 'banana': 10, 'cherry': 15}\n",
    "print(fruits.get('banana'))  # Output: 10"
   ]
  },
  {
   "cell_type": "markdown",
   "id": "d914c66c",
   "metadata": {},
   "source": [
    "The code looks for the word 'banana' in the dictionary. Since 'banana' is there, it returns its value, which is 10"
   ]
  },
  {
   "cell_type": "markdown",
   "id": "645648f4",
   "metadata": {},
   "source": [
    "### Question 10: List Comprehension for Squares"
   ]
  },
  {
   "cell_type": "code",
   "execution_count": 114,
   "id": "5a23a8f1",
   "metadata": {},
   "outputs": [
    {
     "name": "stdout",
     "output_type": "stream",
     "text": [
      "[1, 4, 9, 16, 25, 36, 49, 64, 81, 100]\n"
     ]
    }
   ],
   "source": [
    "squares = [x ** 2 for x in range(1, 11)]\n",
    "print(squares)"
   ]
  },
  {
   "cell_type": "markdown",
   "id": "8a9cc185",
   "metadata": {},
   "source": [
    "The code creates a list of numbers where each number is the square of the numbers from 1 to 10.\n",
    "\n",
    "For example:\n",
    "\n",
    "1 squared is 1\n",
    "2 squared is 4\n",
    "3 squared is 9\n",
    "And so on, up to 10 squared, which is 100\n",
    "The final list is: [1, 4, 9, 16, 25, 36, 49, 64, 81, 100].\n",
    "\n",
    "\n",
    "\n",
    "\n",
    "\n",
    "\n",
    "\n",
    "\n"
   ]
  },
  {
   "cell_type": "markdown",
   "id": "4ab3d559",
   "metadata": {},
   "source": [
    "## Section 3: Advanced Topics"
   ]
  },
  {
   "cell_type": "markdown",
   "id": "9e5113a5",
   "metadata": {},
   "source": [
    "### Question 11: Factorial Using Recursion"
   ]
  },
  {
   "cell_type": "code",
   "execution_count": 115,
   "id": "9d1c4669",
   "metadata": {},
   "outputs": [
    {
     "name": "stdout",
     "output_type": "stream",
     "text": [
      "120\n"
     ]
    }
   ],
   "source": [
    "def factorial(n):\n",
    "    return 1 if n == 0 else n * factorial(n - 1)\n",
    "\n",
    "print(factorial(5))  # Output: 120"
   ]
  },
  {
   "cell_type": "markdown",
   "id": "352502b7",
   "metadata": {},
   "source": [
    "A factorial means multiplying a number by every positive whole number less than it.\n",
    "\n",
    "For example, the factorial of 5 (written as 5!) is:\n",
    "5 × 4 × 3 × 2 × 1 = 120\n",
    "\n",
    "The code works like this:\n",
    "\n",
    "If the number is 0, it returns 1 (because 0! = 1).\n",
    "Otherwise, it keeps multiplying the number by the factorial of the number just before it until it reaches 0.\n",
    "So, for factorial(5), it calculates:\n",
    "5 × 4 × 3 × 2 × 1 = 120\n",
    "\n",
    "\n",
    "\n",
    "\n",
    "\n",
    "\n",
    "\n"
   ]
  },
  {
   "cell_type": "markdown",
   "id": "75379d2f",
   "metadata": {},
   "source": [
    "### Question 12: Output of reversed() Function"
   ]
  },
  {
   "cell_type": "code",
   "execution_count": 116,
   "id": "4855b208",
   "metadata": {},
   "outputs": [
    {
     "name": "stdout",
     "output_type": "stream",
     "text": [
      "[5, 4, 3, 2, 1]\n"
     ]
    }
   ],
   "source": [
    "numbers = [1, 2, 3, 4, 5]\n",
    "print(list(reversed(numbers)))  # Output: [5, 4, 3, 2, 1]"
   ]
  },
  {
   "cell_type": "markdown",
   "id": "8890ba35",
   "metadata": {},
   "source": [
    "The code reverses the order of the numbers in the list.\n",
    "\n",
    "The list numbers is: [1, 2, 3, 4, 5].\n",
    "The reversed() function returns the elements in the list starting from the end and moving to the beginning.\n",
    "Since reversed() produces a special object, list() is used to convert it back into a list.\n",
    "The result is: [5, 4, 3, 2, 1].\n",
    "\n",
    "This method efficiently reverses a list without modifying the original list."
   ]
  },
  {
   "cell_type": "markdown",
   "id": "f11d8c6a",
   "metadata": {},
   "source": [
    "### Question 13: Fibonacci Sequence Generator"
   ]
  },
  {
   "cell_type": "code",
   "execution_count": 117,
   "id": "f406b85c",
   "metadata": {},
   "outputs": [
    {
     "name": "stdout",
     "output_type": "stream",
     "text": [
      "[0, 1, 1, 2, 3, 5, 8, 13, 21, 34]\n"
     ]
    }
   ],
   "source": [
    "def fibonacci(n):\n",
    "    a, b = 0, 1\n",
    "    for _ in range(n):\n",
    "        yield a\n",
    "        a, b = b, a + b\n",
    "\n",
    "print(list(fibonacci(10)))"
   ]
  },
  {
   "cell_type": "markdown",
   "id": "f3751fae",
   "metadata": {},
   "source": [
    "The code creates a function that generates the Fibonacci sequence — a series of numbers where each number is the sum of the two before it.\n",
    "\n",
    "It starts with 0 and 1.\n",
    "\n",
    "First, it shows 0.\n",
    "Then, it shows 1.\n",
    "Next, it adds 0 + 1 to get 1.\n",
    "Then, it adds 1 + 1 to get 2.\n",
    "After that, 1 + 2 = 3, 2 + 3 = 5, and so on.\n",
    "This continues until it produces 10 numbers:\n",
    "[0, 1, 1, 2, 3, 5, 8, 13, 21, 34].\n",
    "\n",
    "The yield statement helps generate these values one by one, which is memory-efficient.\n",
    "\n",
    "\n",
    "\n",
    "\n",
    "\n",
    "\n",
    "\n",
    "\n"
   ]
  },
  {
   "cell_type": "markdown",
   "id": "52c5bcec",
   "metadata": {},
   "source": [
    "### Question 14: Output of math.pi"
   ]
  },
  {
   "cell_type": "code",
   "execution_count": 118,
   "id": "17515f89",
   "metadata": {},
   "outputs": [
    {
     "name": "stdout",
     "output_type": "stream",
     "text": [
      "3.141592653589793\n"
     ]
    }
   ],
   "source": [
    "import math\n",
    "print(math.pi)  # Output: 3.141592653589793"
   ]
  },
  {
   "cell_type": "markdown",
   "id": "9a8deec6",
   "metadata": {},
   "source": [
    "The code imports the math module and prints the value of π (pi).\n",
    "\n",
    "The math module provides mathematical functions and constants.\n",
    "math.pi is a constant that represents the value of π (pi), which is approximately 3.141592653589793.\n",
    "Pi is commonly used in geometry, trigonometry, and various mathematical calculations, especially for circles."
   ]
  },
  {
   "cell_type": "markdown",
   "id": "fcb1978f",
   "metadata": {},
   "source": [
    "### Question 15: Inverted Star Pyramid"
   ]
  },
  {
   "cell_type": "code",
   "execution_count": 119,
   "id": "c22b5958",
   "metadata": {},
   "outputs": [
    {
     "name": "stdout",
     "output_type": "stream",
     "text": [
      "*********\n",
      " *******\n",
      "  *****\n",
      "   ***\n",
      "    *\n"
     ]
    }
   ],
   "source": [
    "for i in range(5, 0, -1):\n",
    "    print(' ' * (5 - i) + '*' * (2 * i - 1))"
   ]
  },
  {
   "cell_type": "markdown",
   "id": "61857b25",
   "metadata": {},
   "source": [
    "The code prints a reverse pyramid pattern made of stars.\n",
    "\n",
    "It starts with 9 stars in the first row.\n",
    "In each next row, the number of stars decreases by 2.\n",
    "At the same time, spaces are added at the beginning to keep the stars centered.\n",
    "This continues until the last row, which has 1 star."
   ]
  }
 ],
 "metadata": {
  "kernelspec": {
   "display_name": "Python 3",
   "language": "python",
   "name": "python3"
  },
  "language_info": {
   "codemirror_mode": {
    "name": "ipython",
    "version": 3
   },
   "file_extension": ".py",
   "mimetype": "text/x-python",
   "name": "python",
   "nbconvert_exporter": "python",
   "pygments_lexer": "ipython3",
   "version": "3.8.10"
  }
 },
 "nbformat": 4,
 "nbformat_minor": 5
}
